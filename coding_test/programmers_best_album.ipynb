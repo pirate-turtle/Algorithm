{
  "nbformat": 4,
  "nbformat_minor": 0,
  "metadata": {
    "colab": {
      "name": "programmers_best_album.ipynb",
      "provenance": [],
      "collapsed_sections": [],
      "authorship_tag": "ABX9TyMlLFPl4N7jFLkKsqKI3zfO"
    },
    "kernelspec": {
      "name": "python3",
      "display_name": "Python 3"
    },
    "language_info": {
      "name": "python"
    }
  },
  "cells": [
    {
      "cell_type": "markdown",
      "metadata": {
        "id": "qVnlnyeV6n43"
      },
      "source": [
        "# 문제"
      ]
    },
    {
      "cell_type": "markdown",
      "metadata": {
        "id": "1b6uOHIZPeAb"
      },
      "source": [
        "**[Level 3]**  \n",
        "[프로그래머스 - 베스트앨범](https://programmers.co.kr/learn/courses/30/lessons/42579)  \n",
        "  \n",
        "\n",
        "**[설명]**  \n",
        "\n",
        "스트리밍 사이트에서 장르 별로 가장 많이 재생된 노래를 두 개씩 모아 베스트 앨범을 출시하려 합니다. 노래는 고유 번호로 구분하며, 노래를 수록하는 기준은 다음과 같습니다.  \n",
        "\n",
        "1.\t속한 노래가 많이 재생된 장르를 먼저 수록합니다.\n",
        "2.\t장르 내에서 많이 재생된 노래를 먼저 수록합니다.\n",
        "3.\t장르 내에서 재생 횟수가 같은 노래 중에서는 고유 번호가 낮은 노래를 먼저 수록합니다.\n",
        "\n",
        "노래의 장르를 나타내는 문자열 배열 genres와 노래별 재생 횟수를 나타내는 정수 배열 plays가 주어질 때, 베스트 앨범에 들어갈 노래의 고유 번호를 순서대로 return 하도록 solution 함수를 완성하세요.  \n",
        "\n",
        "**제한사항**  \n",
        "* \tgenres[i]는 고유번호가 i인 노래의 장르입니다.\n",
        "* \tplays[i]는 고유번호가 i인 노래가 재생된 횟수입니다.\n",
        "* \tgenres와 plays의 길이는 같으며, 이는 1 이상 10,000 이하입니다.\n",
        "* \t장르 종류는 100개 미만입니다.\n",
        "* \t장르에 속한 곡이 하나라면, 하나의 곡만 선택합니다.\n",
        "* \t모든 장르는 재생된 횟수가 다릅니다.\n",
        "\n",
        "**입출력 예**  \n",
        "\n",
        "|genres|plays|return|\n",
        "|---|---|---|\n",
        "|[\"classic\", \"pop\", \"classic\", \"classic\", \"pop\"]|[500, 600, 150, 800, 2500]|[4, 1, 3, 0]|\n",
        "\n",
        "입출력 예 설명  \n",
        "\n",
        "classic 장르는 1,450회 재생되었으며, classic 노래는 다음과 같습니다.\n",
        "* \t고유 번호 3: 800회 재생\n",
        "* \t고유 번호 0: 500회 재생\n",
        "* \t고유 번호 2: 150회 재생\n",
        "\n",
        "pop 장르는 3,100회 재생되었으며, pop 노래는 다음과 같습니다.\n",
        "* \t고유 번호 4: 2,500회 재생\n",
        "* \t고유 번호 1: 600회 재생\n",
        "따라서 pop 장르의 [4, 1]번 노래를 먼저, classic 장르의 [3, 0]번 노래를 그다음에 수록합니다."
      ]
    },
    {
      "cell_type": "markdown",
      "metadata": {
        "id": "x8BhykPJ_wSr"
      },
      "source": [
        "# 나의 풀이"
      ]
    },
    {
      "cell_type": "markdown",
      "metadata": {
        "id": "U_JQsE_xPiwJ"
      },
      "source": [
        "\n",
        "**[아이디어]**\n",
        "1. 주어진 데이터에서 두가지 정보를 뽑는다.\n",
        "\t* g_count\n",
        "\t\t* 장르별 총 플레이 수를 저장한 딕셔너리\n",
        "\t\t* Key = 장르\n",
        "\t\t* Value = 해당 장르의 총 플레이 수\n",
        "\t* g_plays\n",
        "\t\t*  각 노래의 고유번호와 플레이수를 장르별로 모아둔 딕셔너리\n",
        "\t\t* Key = 장르\n",
        "\t\t* Value = 해당 장르인 노래들을 모아둔 리스트 (리스트의 원소는 (플레이 수, 고유번호) 튜플)\n",
        "2. g_count를 오름차순으로 정렬한 리스트로 바꿔서 저장 (오름차순으로 정렬해야 pop했을때 수가 제일 큰것부터 나옴)\n",
        "3. g_plays에서 각 장르의 노래 리스트를 가져와 정렬하고, 제일 많이 재생된것 2개만 뽑아서 answer에 추가 "
      ]
    },
    {
      "cell_type": "code",
      "metadata": {
        "id": "JrQcx6uB6SPk"
      },
      "source": [
        "def solution(genres, plays):\n",
        "    answer = []\n",
        "    g_count = {}\n",
        "    g_plays = {}\n",
        "    \n",
        "    for g, p, i in zip(genres, plays, range(len(genres))):\n",
        "        try:\n",
        "            g_count[g] += p\n",
        "        except:\n",
        "            g_count[g] = p\n",
        "            \n",
        "        try:\n",
        "            g_plays[g].append((-p, i))\n",
        "        except:\n",
        "            g_plays[g] = [(-p, i)]\n",
        "    \n",
        "    g_list = sorted([(g_count[g], g) for g in g_count])\n",
        "    \n",
        "    while(g_list):\n",
        "        answer += [i for p, i in sorted(g_plays[g_list.pop()[1]])[:2]]\n",
        "    \n",
        "    return answer"
      ],
      "execution_count": 16,
      "outputs": []
    },
    {
      "cell_type": "code",
      "metadata": {
        "id": "u79Yp5aaA2_e"
      },
      "source": [
        "import unittest\n",
        "\n",
        "class TestSolution(unittest.TestCase):\n",
        "    def test_solution(self):\n",
        "        input = [\"classic\", \"pop\", \"classic\", \"classic\", \"pop\"], [500, 600, 150, 800, 2500]\n",
        "        answer = [4, 1, 3, 0]\n",
        "\n",
        "        self.assertEqual(answer, solution(*input))"
      ],
      "execution_count": 10,
      "outputs": []
    },
    {
      "cell_type": "code",
      "metadata": {
        "colab": {
          "base_uri": "https://localhost:8080/"
        },
        "id": "oXfFpKf0PWou",
        "outputId": "a5dc0f18-2e17-4518-ef29-18187f446ced"
      },
      "source": [
        "if __name__ == '__main__':\n",
        "    # https://stackoverflow.com/questions/49952317/python3-for-unit-test-attributeerror-module-main-has-no-attribute-kerne\n",
        "    # https://medium.com/@vladbezden/using-python-unittest-in-ipython-or-jupyter-732448724e31\n",
        "    unittest.main(argv=['first-arg-is-ignored', '-v'], exit=False)"
      ],
      "execution_count": 14,
      "outputs": [
        {
          "output_type": "stream",
          "text": [
            "test_solution (__main__.TestSolution) ... ok\n",
            "\n",
            "----------------------------------------------------------------------\n",
            "Ran 1 test in 0.002s\n",
            "\n",
            "OK\n"
          ],
          "name": "stderr"
        }
      ]
    },
    {
      "cell_type": "markdown",
      "metadata": {
        "id": "D7SgRZyfPr1q"
      },
      "source": [
        "# 다른 풀이들을 보고 알게된 것"
      ]
    },
    {
      "cell_type": "markdown",
      "metadata": {
        "id": "stRGuVMtSMjf"
      },
      "source": [
        "1. sorted 호출 시 정렬 조건, 정렬 방법을 정할 수 있다.\n",
        "\t* key 파라미터에 lamda 함수 넘겨서 정렬 조건 설정가능\n",
        "\t* reverse파라미터를 True로 넘겨주면 내림차순으로 정렬됨\n",
        "2. 장르별 총 플레이 수 딕셔너리를 따로 만들 필요는 없었다.\n",
        "\t* 장르별로 노래 모아둔 딕셔너리에서 시간만 더해주면 되니까!\n",
        "3. pop 하지 말고 for문으로 돌릴걸 그랬나…  \n",
        "\t* 찾아보니까 index참조와 pop의 시간복잡도는 동일하다._(O(1))_  \n",
        "장르 리스트도 돌려줘야되는 건 아니었으니까 상관없을듯!\n",
        "4. magic method (다음에 한번 이것저것 실험해보고싶음)\n",
        "5. 간결한 코드도 좋지만, 협업 시에는 가독성이 좋은 코드가 좋다."
      ]
    },
    {
      "cell_type": "markdown",
      "metadata": {
        "id": "D2DKNJrZ5Hml"
      },
      "source": [
        "# 가장 인상적이었던 풀이"
      ]
    },
    {
      "cell_type": "code",
      "metadata": {
        "id": "uQYgfor6Prml"
      },
      "source": [
        "def solution(genres, plays):\n",
        "    answer = []\n",
        "    dic = {}\n",
        "    album_list = []\n",
        "    for i in range(len(genres)):\n",
        "        dic[genres[i]] = dic.get(genres[i], 0) + plays[i]\n",
        "        album_list.append(album(genres[i], plays[i], i))\n",
        "\n",
        "    dic = sorted(dic.items(), key=lambda dic:dic[1], reverse=True)\n",
        "    album_list = sorted(album_list, reverse=True)\n",
        "\n",
        "\n",
        "\n",
        "    while len(dic) > 0:\n",
        "        play_genre = dic.pop(0)\n",
        "        print(play_genre)\n",
        "        cnt = 0;\n",
        "        for ab in album_list:\n",
        "            if play_genre[0] == ab.genre:\n",
        "                answer.append(ab.track)\n",
        "                cnt += 1\n",
        "            if cnt == 2:\n",
        "                break\n",
        "\n",
        "    return answer\n",
        "\n",
        "class album:\n",
        "    def __init__(self, genre, play, track):\n",
        "        self.genre = genre\n",
        "        self.play = play\n",
        "        self.track = track\n",
        "\n",
        "    def __lt__(self, other):\n",
        "        return self.play < other.play\n",
        "    def __le__(self, other):\n",
        "        return self.play <= other.play\n",
        "    def __gt__(self, other):\n",
        "        return self.play > other.play\n",
        "    def __ge__(self, other):\n",
        "        return self.play >= other.play\n",
        "    def __eq__(self, other):\n",
        "        return self.play == other.play\n",
        "    def __ne__(self, other):\n",
        "        return self.play != other.play"
      ],
      "execution_count": null,
      "outputs": []
    },
    {
      "cell_type": "markdown",
      "metadata": {
        "id": "eZZaNGXcSSV5"
      },
      "source": [
        "# [TODO] 내 풀이 개선해보기"
      ]
    },
    {
      "cell_type": "code",
      "metadata": {
        "id": "MzWBxKkGPqSh"
      },
      "source": [
        ""
      ],
      "execution_count": null,
      "outputs": []
    }
  ]
}