{
  "nbformat": 4,
  "nbformat_minor": 0,
  "metadata": {
    "colab": {
      "name": "programmers_more_spicy",
      "provenance": [],
      "collapsed_sections": [],
      "authorship_tag": "ABX9TyNhgJBnLQhvfd1zxnSdLFD6"
    },
    "kernelspec": {
      "name": "python3",
      "display_name": "Python 3"
    },
    "language_info": {
      "name": "python"
    }
  },
  "cells": [
    {
      "cell_type": "markdown",
      "metadata": {
        "id": "qVnlnyeV6n43"
      },
      "source": [
        "# 문제"
      ]
    },
    {
      "cell_type": "markdown",
      "metadata": {
        "id": "1b6uOHIZPeAb"
      },
      "source": [
        "**[Level 2]**  \n",
        "[프로그래머스 - 더 맵게](https://programmers.co.kr/learn/courses/30/lessons/42626)  \n",
        "\n",
        "**[설명]**  \n",
        "\n",
        "매운 것을 좋아하는 Leo는 모든 음식의 스코빌 지수를 K 이상으로 만들고 싶습니다.  \n",
        "모든 음식의 스코빌 지수를 K 이상으로 만들기 위해 Leo는 스코빌 지수가 가장 낮은 두 개의 음식을 아래와 같이 특별한 방법으로 섞어 새로운 음식을 만듭니다.  \n",
        "```  \n",
        "    섞은 음식의 스코빌 지수 = 가장 맵지 않은 음식의 스코빌 지수 + (두 번째로 맵지 않은 음식의 스코빌 지수 * 2)  \n",
        "```  \n",
        "Leo는 모든 음식의 스코빌 지수가 K 이상이 될 때까지 반복하여 섞습니다.  \n",
        "Leo가 가진 음식의 스코빌 지수를 담은 배열 scoville과 원하는 스코빌 지수 K가 주어질 때, 모든 음식의 스코빌 지수를 K 이상으로 만들기 위해 섞어야 하는 최소 횟수를 return 하도록 solution 함수를 작성해주세요.  \n",
        "\n",
        "**제한 사항**\n",
        "* \tscoville의 길이는 2 이상 1,000,000 이하입니다.\n",
        "* \tK는 0 이상 1,000,000,000 이하입니다.\n",
        "* \tscoville의 원소는 각각 0 이상 1,000,000 이하입니다.\n",
        "* \t모든 음식의 스코빌 지수를 K 이상으로 만들 수 없는 경우에는 -1을 return 합니다.  \n",
        "\n",
        "**입출력 예**  \n",
        "\n",
        "|scoville|K|return|\n",
        "|---|---|---|\n",
        "|[1, 2, 3, 9, 10, 12]|7|2|  \n",
        "\n",
        "**입출력 예 설명**  \n",
        "1.\t스코빌 지수가 1인 음식과 2인 음식을 섞으면 음식의 스코빌 지수가 아래와 같이 됩니다.  \n",
        "새로운 음식의 스코빌 지수 = 1 + (2 * 2) = 5\n",
        "가진 음식의 스코빌 지수 = [5, 3, 9, 10, 12]\n",
        "2.\t스코빌 지수가 3인 음식과 5인 음식을 섞으면 음식의 스코빌 지수가 아래와 같이 됩니다.  \n",
        "새로운 음식의 스코빌 지수 = 3 + (5 * 2) = 13\n",
        "가진 음식의 스코빌 지수 = [13, 9, 10, 12]  \n",
        "\n",
        "모든 음식의 스코빌 지수가 7 이상이 되었고 이때 섞은 횟수는 2회입니다.\n"
      ]
    },
    {
      "cell_type": "markdown",
      "metadata": {
        "id": "x8BhykPJ_wSr"
      },
      "source": [
        "# 나의 풀이"
      ]
    },
    {
      "cell_type": "markdown",
      "metadata": {
        "id": "U_JQsE_xPiwJ"
      },
      "source": [
        "**[아이디어]**\n",
        "1. 스코빌 지수 리스트를 최소 힙으로 만들기\n",
        "2. 최소힙에서 가장 맵지 않은 음식 pop\n",
        "3. 원하는 스코빌 지수 K미만인지 확인 (이상이면 return)\n",
        "4. 한번 더 pop해서 섞기(가장 맵지 않은 음식과 두번째로 맵지 않은 음식이랑 섞는거)\n",
        "5. 섞은 음식의 스코빌지수를 다시 최소 힙에 추가\n",
        "6. 모든 음식의 스코빌 지수가 K 이상이 될때까지 2~5  과정 반복 (불가능하면 -1 리턴)"
      ]
    },
    {
      "cell_type": "code",
      "metadata": {
        "id": "qDsuIcr2A9ZV"
      },
      "source": [
        "def solution(scoville, K):\n",
        "    answer = 0\n",
        "    \n",
        "    hq.heapify(scoville)\n",
        "    \n",
        "    while len(scoville) > 1:\n",
        "        if scoville[0] >= K:\n",
        "            break\n",
        "        a = hq.heappop(scoville)\n",
        "        b = hq.heappop(scoville)\n",
        "        s = a + 2 * b\n",
        "        hq.heappush(scoville, s)\n",
        "        answer += 1\n",
        "        \n",
        "            \n",
        "    if scoville[0] < K:\n",
        "        answer = -1\n",
        "    \n",
        "    \n",
        "    return answer"
      ],
      "execution_count": 4,
      "outputs": []
    },
    {
      "cell_type": "code",
      "metadata": {
        "id": "u79Yp5aaA2_e"
      },
      "source": [
        "import unittest\n",
        "\n",
        "class TestSolution(unittest.TestCase):\n",
        "    def test_solution(self):\n",
        "        input = [1, 2, 3, 9, 10, 12], 7\n",
        "        answer = 2\n",
        "\n",
        "        self.assertEqual(answer, solution(*input))"
      ],
      "execution_count": 5,
      "outputs": []
    },
    {
      "cell_type": "code",
      "metadata": {
        "id": "oXfFpKf0PWou",
        "colab": {
          "base_uri": "https://localhost:8080/"
        },
        "outputId": "844c3736-70f3-413e-eb1e-35962cf5dafd"
      },
      "source": [
        "if __name__ == '__main__':\n",
        "    unittest.main(argv=['first-arg-is-ignored', '-v'], exit=False)"
      ],
      "execution_count": 6,
      "outputs": [
        {
          "output_type": "stream",
          "text": [
            "test_solution (__main__.TestSolution) ... ok\n",
            "\n",
            "----------------------------------------------------------------------\n",
            "Ran 1 test in 0.003s\n",
            "\n",
            "OK\n"
          ],
          "name": "stderr"
        }
      ]
    },
    {
      "cell_type": "markdown",
      "metadata": {
        "id": "D2DKNJrZ5Hml"
      },
      "source": [
        "# 가장 인상적이었던 풀이"
      ]
    },
    {
      "cell_type": "markdown",
      "metadata": {
        "id": "uQYgfor6Prml"
      },
      "source": [
        "댓글로만 달려있어서 코드는 따로 없음\n",
        "\n",
        "```\n",
        "코드들을 보니 다들 import heapq를 하셨는데 저는 heap을 몰라서..ㅎㅎ queue만 써서 풀었는데도 시간이 heap을 쓴 풀이의 절반 정도 걸리네요. 저는 섞어서 나온 새로운 값, mix들을 별도의 queue에 넣었는데 이게 가장 큰 요인같네요. 나중에 나온 mix값이 먼저 나온 것보다 클 수밖에 없어서 섞는 순서대로 queue에 넣어주면 크기 순서를 신경 쓸 필요가 없어요. 그냥 popleft로 꺼내면 무조건 mix값의 최소입니다ㅎ  \n",
        "```\n",
        "\n",
        "아마 주어진 리스트는 내장 함수로 sort하고 섞은 경우는 따로 저장하신듯  \n",
        "최소값을 뽑아야 하는 경우 리스트로 구현하면 O(n)(오름차순 정렬 기준), deque로 구현하면 O(1)\n",
        "\n",
        "예상 시간복잡도\n",
        "1. 리스트 정렬: O(NlogN)\n",
        "2. 리스트의 최소값과 섞은 음식의 최소값 비교: O(1)\n",
        "3. 리스트 최소값이 더 작으면 pop해서 섞기\n",
        "O(1)\n",
        "4. 섞은 음식 큐에 추가 O(1)\n",
        "5. 2~4 과정 반복\n",
        "\n",
        "\n",
        "heapq를 사용한 풀이의 시간복잡도\n",
        "1. 리스트를 힙으로 바꿈 O(N)\n",
        "2. 음식 최소값 확인 O(1)\n",
        "3. 음식 두개 pop해서 섞기 O(logN)\n",
        "4. 섞은 음식을 다시 힙에 넣기 O(logN)\n",
        "5. 2~4 과정 반복"
      ]
    },
    {
      "cell_type": "markdown",
      "metadata": {
        "id": "eZZaNGXcSSV5"
      },
      "source": [
        "# [TODO] 내 풀이 개선해보기"
      ]
    },
    {
      "cell_type": "code",
      "metadata": {
        "id": "MzWBxKkGPqSh"
      },
      "source": [
        ""
      ],
      "execution_count": null,
      "outputs": []
    }
  ]
}