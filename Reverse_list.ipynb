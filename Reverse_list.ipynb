{
  "nbformat": 4,
  "nbformat_minor": 0,
  "metadata": {
    "colab": {
      "name": "Reverse_list.ipynb",
      "provenance": [],
      "collapsed_sections": [],
      "authorship_tag": "ABX9TyOfbCfyErH4l04upfUyTczy"
    },
    "kernelspec": {
      "name": "python3",
      "display_name": "Python 3"
    },
    "language_info": {
      "name": "python"
    }
  },
  "cells": [
    {
      "cell_type": "markdown",
      "metadata": {
        "id": "DO-NIpYHAXdH"
      },
      "source": [
        "# **리스트 뒤집기**\n",
        "주어진 리스트를 뒤집는 재귀 함수를 작성해보세요  \n",
        "파이썬 내장 함수 쓰지 않기 (list.reverse(), reversed(list) nono)"
      ]
    },
    {
      "cell_type": "code",
      "metadata": {
        "colab": {
          "base_uri": "https://localhost:8080/"
        },
        "id": "l3bCrvenCCIt",
        "outputId": "d45fc141-e47d-438d-8c1b-cc7c12b6616e"
      },
      "source": [
        "my_list = list(range(1, 6))\n",
        "print(my_list)"
      ],
      "execution_count": null,
      "outputs": [
        {
          "output_type": "stream",
          "text": [
            "[1, 2, 3, 4, 5]\n"
          ],
          "name": "stdout"
        }
      ]
    },
    {
      "cell_type": "markdown",
      "metadata": {
        "id": "vl4jsVWyFqzz"
      },
      "source": [
        "## [방법 1]"
      ]
    },
    {
      "cell_type": "code",
      "metadata": {
        "id": "vMBjTh32B5IU"
      },
      "source": [
        "def reverse(my_list):\n",
        "    if len(my_list) > 1:\n",
        "        return my_list[-1:] + my_list[:-1]\n",
        "        # -1로 쓰려면 []로 감싸줘야함\n",
        "        # [return my_list[-1]] + my_list[:-1]\n",
        "        \n",
        "    return my_list"
      ],
      "execution_count": null,
      "outputs": []
    },
    {
      "cell_type": "code",
      "metadata": {
        "colab": {
          "base_uri": "https://localhost:8080/"
        },
        "id": "DsQ_xMsECAWo",
        "outputId": "c35e87e0-c5a0-4ed0-d462-7c4b12c2f1b4"
      },
      "source": [
        "print(reverse(my_list))"
      ],
      "execution_count": null,
      "outputs": [
        {
          "output_type": "stream",
          "text": [
            "[5, 1, 2, 3, 4]\n"
          ],
          "name": "stdout"
        }
      ]
    },
    {
      "cell_type": "markdown",
      "metadata": {
        "id": "gO6ggG1oFzI7"
      },
      "source": [
        "[방법 1] 의 시간복잡도: O(n^2)  &nbsp;&nbsp;&nbsp;_(n == len(my_list))_\n",
        "\n",
        "*   my_list[-1:] : O(1)\n",
        "*   my_list[:-1] : O(n-1) == O(n)\n",
        "*   reverse() call time: n \n"
      ]
    },
    {
      "cell_type": "markdown",
      "metadata": {
        "id": "v9Ys3gwkFnVh"
      },
      "source": [
        "## [방법 2]"
      ]
    },
    {
      "cell_type": "code",
      "metadata": {
        "id": "XU4x_40AAi-P"
      },
      "source": [
        "def reverse2(my_list):\n",
        "    if len(my_list) < 2:\n",
        "        return my_list\n",
        "\n",
        "    middle = len(my_list) // 2\n",
        "\n",
        "    return reverse2(my_list[middle:]) + reverse2(my_list[:middle])"
      ],
      "execution_count": null,
      "outputs": []
    },
    {
      "cell_type": "code",
      "metadata": {
        "colab": {
          "base_uri": "https://localhost:8080/"
        },
        "id": "4U5-UIY3IFBX",
        "outputId": "7c12827e-9fdc-41b8-c062-07e47edb4e3f"
      },
      "source": [
        "print(reverse2(my_list))"
      ],
      "execution_count": null,
      "outputs": [
        {
          "output_type": "stream",
          "text": [
            "[5, 4, 3, 2, 1]\n"
          ],
          "name": "stdout"
        }
      ]
    },
    {
      "cell_type": "markdown",
      "metadata": {
        "id": "BMQaFZUCIHqF"
      },
      "source": [
        "[방법 2]의 시간복잡도: O(nlogn) &nbsp;&nbsp;&nbsp;_(n==len(my_list))_\n",
        "\n",
        "\n",
        "*   my_list[middle:] : O(n/2)\n",
        "*   my_list[:middle] : O(n/2)\n",
        "*   reverse2() call time: logn\n",
        "\n",
        "\n"
      ]
    },
    {
      "cell_type": "markdown",
      "metadata": {
        "id": "KLjNNgP6LmH3"
      },
      "source": [
        "## [방법 3]"
      ]
    },
    {
      "cell_type": "code",
      "metadata": {
        "id": "AK4xPV-FLijV"
      },
      "source": [
        "def reverse3(my_list):\n",
        "    if len(my_list) > 1:\n",
        "        return [my_list.pop()] + reverse3(my_list)\n",
        "\n",
        "    return my_list"
      ],
      "execution_count": null,
      "outputs": []
    },
    {
      "cell_type": "code",
      "metadata": {
        "colab": {
          "base_uri": "https://localhost:8080/"
        },
        "id": "uIZLbMrlNIEi",
        "outputId": "5a99d2dc-e58a-4bae-9453-7bb56f393f71"
      },
      "source": [
        "print(reverse3(my_list))\n",
        "\n",
        "# 입력 변수를 변형시키기 때문에 좋지 못한 방법이다.\n",
        "# 정 쓰고싶으면 호출 전 리스트를 복제해야 할것임.. (deep copy로)\n",
        "print(my_list)"
      ],
      "execution_count": null,
      "outputs": [
        {
          "output_type": "stream",
          "text": [
            "[5, 4, 3, 2, 1]\n",
            "[1]\n"
          ],
          "name": "stdout"
        }
      ]
    },
    {
      "cell_type": "markdown",
      "metadata": {
        "id": "FAb2gQKpNLz9"
      },
      "source": [
        "[방법 3]의 시간복잡도: O(n)&nbsp;&nbsp;&nbsp;_(n==len(my_list))_\n",
        "\n",
        "\n",
        "*   my_list.pop() == O(1)\n",
        "*   reverse3() call time: n\n",
        "\n"
      ]
    }
  ]
}