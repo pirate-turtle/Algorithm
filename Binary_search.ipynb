{
  "nbformat": 4,
  "nbformat_minor": 0,
  "metadata": {
    "colab": {
      "name": "Binary_search.ipynb",
      "provenance": [],
      "collapsed_sections": [],
      "authorship_tag": "ABX9TyPOBvOg8OLh9VkOwdeDPw+a"
    },
    "kernelspec": {
      "name": "python3",
      "display_name": "Python 3"
    },
    "language_info": {
      "name": "python"
    }
  },
  "cells": [
    {
      "cell_type": "markdown",
      "metadata": {
        "id": "hOaapt-V1gFZ"
      },
      "source": [
        "# Binary Search (이진탐색)\n",
        "\n",
        "**정렬된** 리스트에서 값을 찾는 방법\n",
        "\n",
        "1. 주어진 리스트에서 중간에 위치한 값을 본다.\n",
        "2. 찾는 값보다 작은 경우 중간을 포함한 왼쪽 부분을 제외하고 다시 탐색한다.\n",
        "3. 반대의 경우에는 중간을 포함한 오른쪽 부분을 제외하고 다시 탐색한다.\n",
        "\n",
        "시간복잡도: O(logN)"
      ]
    },
    {
      "cell_type": "markdown",
      "metadata": {
        "id": "AOdyBg8FL1yP"
      },
      "source": [
        "## while문을 사용하여 구현해보기"
      ]
    },
    {
      "cell_type": "code",
      "metadata": {
        "id": "LKNno97a1HaK"
      },
      "source": [
        "def binary_search(target, sorted_list):\n",
        "    start = 0                   # start index\n",
        "    end = len(sorted_list)-1    # last index\n",
        "    \n",
        "    # start 가 end 보다 커질 때는 리스트에 찾고자 하는 값이 없는 경우이다\n",
        "    while start <= end:\n",
        "        middle = (start + end) // 2\n",
        "\n",
        "        if sorted_list[middle] == target:\n",
        "            return middle\n",
        "        elif target < sorted_list[middle]:\n",
        "            end = middle - 1\n",
        "        else:\n",
        "            start = middle + 1\n",
        "\n",
        "    return -1"
      ],
      "execution_count": null,
      "outputs": []
    },
    {
      "cell_type": "code",
      "metadata": {
        "colab": {
          "base_uri": "https://localhost:8080/"
        },
        "id": "msnn0KLp8Znp",
        "outputId": "3d0c37a8-420e-41c2-882d-686e55eb4f14"
      },
      "source": [
        "sorted_list = [2 * i for i in range(1, 6)]\n",
        "print(sorted_list)\n",
        "print(f'value {4} index is: {binary_search(4, sorted_list)}')\n",
        "print(f'value {3} index is: {binary_search(3, sorted_list)}')\n",
        "print(f'value {8} index is: {binary_search(8, sorted_list)}')\n",
        "print(f'value {10} index is: {binary_search(10, sorted_list)}')"
      ],
      "execution_count": null,
      "outputs": [
        {
          "output_type": "stream",
          "text": [
            "[2, 4, 6, 8, 10]\n",
            "value 4 index is: 1\n",
            "value 3 index is: -1\n",
            "value 8 index is: 3\n",
            "value 10 index is: 4\n"
          ],
          "name": "stdout"
        }
      ]
    },
    {
      "cell_type": "markdown",
      "metadata": {
        "id": "34h08eUUL0K2"
      },
      "source": [
        "# 재귀함수 형태로 구현해보기 (recursive)"
      ]
    },
    {
      "cell_type": "code",
      "metadata": {
        "id": "W7ul9yZDAaxy"
      },
      "source": [
        "def recursive_binary_search(target, sorted_list, start=0, end=len(sorted_list)-1):\n",
        "    if start <= end:\n",
        "        middle = (start + end) // 2\n",
        "        if target == sorted_list[middle]:\n",
        "            return middle\n",
        "        elif target < sorted_list[middle]:\n",
        "            end = middle - 1\n",
        "        else:\n",
        "            start = middle + 1\n",
        "        \n",
        "        return recursive_binary_search(target, sorted_list, start, end)\n",
        "\n",
        "    else:\n",
        "        return -1"
      ],
      "execution_count": null,
      "outputs": []
    },
    {
      "cell_type": "code",
      "metadata": {
        "colab": {
          "base_uri": "https://localhost:8080/"
        },
        "id": "B8dpRSZ3QSG0",
        "outputId": "24b015aa-11f1-44bc-c934-0cf71b37beb3"
      },
      "source": [
        "print(sorted_list)\n",
        "print(f'value {2} index is: {recursive_binary_search(2, sorted_list)}')\n",
        "print(f'value {3} index is: {recursive_binary_search(3, sorted_list)}')\n",
        "print(f'value{8} index is: {recursive_binary_search(8, sorted_list)}')\n",
        "print(f'value {10} index is: {recursive_binary_search(10, sorted_list)}')"
      ],
      "execution_count": null,
      "outputs": [
        {
          "output_type": "stream",
          "text": [
            "[2, 4, 6, 8, 10]\n",
            "value 2 index is: 0\n",
            "value 3 index is: -1\n",
            "value8 index is: 3\n",
            "value 10 index is: 4\n"
          ],
          "name": "stdout"
        }
      ]
    }
  ]
}