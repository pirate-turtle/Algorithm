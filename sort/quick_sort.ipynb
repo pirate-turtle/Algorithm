{
  "nbformat": 4,
  "nbformat_minor": 0,
  "metadata": {
    "colab": {
      "name": "quick sort.ipynb",
      "provenance": [],
      "authorship_tag": "ABX9TyMuNIGy1ScFrOunIeT18sWd"
    },
    "kernelspec": {
      "name": "python3",
      "display_name": "Python 3"
    },
    "language_info": {
      "name": "python"
    }
  },
  "cells": [
    {
      "cell_type": "markdown",
      "metadata": {
        "id": "B9U2Xfrh8N1J"
      },
      "source": [
        "# 퀵 정렬(Quick  sort)\n",
        "기준값(Pivot)을 가지고 정렬한다.\n",
        "* **과정**\n",
        "    1. 기준값을 정한다.\n",
        "    2. 기준값보다 작은 값은 왼쪽으로, 기준값보다 큰 값은 오른쪽으로 옮긴다.  \n",
        "    3. 기준값 왼쪽과 오른쪽 영역에 각각 1, 2를 수행한다.\n",
        "    4. 모두 정렬될때까지 재귀적으로 반복한다\n",
        "\n",
        "* **장점**: 추가적인 메모리가 필요하지 않다.  \n",
        "(주어진 리스트를 정렬해가면서 진행하기 때문)\n",
        "* **단점**: 기준값(Pivot)에 따라 시간복잡도가 크게 달라진다.\n",
        "    * 이상: O(nlogn)\n",
        "    * 최악: O(n^2)"
      ]
    },
    {
      "cell_type": "code",
      "metadata": {
        "id": "J21ARTbb72VR"
      },
      "source": [
        "# 각 인덱스에 있는 원소의 위치를 바꿔주는 함수\n",
        "def swap(my_list, index1, index2):\n",
        "    # 파이써닉(Pythonic)한 위치 바꾸기. 임시 변수가 필요하지 않다.\n",
        "    my_list[index1], my_list[index2] = my_list[index2], my_list[index1]"
      ],
      "execution_count": 1,
      "outputs": []
    },
    {
      "cell_type": "code",
      "metadata": {
        "id": "nyb6ftXFFJ9y"
      },
      "source": [
        "# 기준값을 정하고 작은 값은 왼쪽으로, 큰 값은 오른쪽으로 옮기는 함수\n",
        "# 모두 옮기고 나서 기준값의 위치를 반환한다.\n",
        "def partition(my_list, start, end):\n",
        "    i = start\n",
        "    b = start\n",
        "    p = end\n",
        "    \n",
        "    for m in my_list[start:end]:\n",
        "        if m < my_list[p]:\n",
        "            swap(my_list, b, i)\n",
        "            b += 1\n",
        "        \n",
        "        i+= 1\n",
        "        \n",
        "    swap(my_list, b, p)\n",
        "    p = b\n",
        "    \n",
        "    return p"
      ],
      "execution_count": 2,
      "outputs": []
    },
    {
      "cell_type": "code",
      "metadata": {
        "id": "aVbBmkw6FOJ4"
      },
      "source": [
        "# 퀵 정렬\n",
        "# 파라미터의 기본값을 설정할 수 있는데, 이를 옵셔널 파라미터(Optional Parameter)라고 한다.\n",
        "# 파라미터 안에서 다른 변수의 값을 가져올 수 없기 때문에 end=len(my_list)-1은 에러가 난다.\n",
        "def quick_sort(my_list, start=0, end=None):\n",
        "    # end가 None인지 확인할 때, end == None 보다는 end is None을 사용한다.\n",
        "    # 이 방법이 미세하지만 좀더 빠르고, 코드의 가독성이 더 좋아서 권장되는 방법이다.\n",
        "    # https://legacy.python.org/dev/peps/pep-0008/#programming-recommendations\n",
        "    if end is None:\n",
        "        start = 0\n",
        "        end = len(my_list)-1\n",
        "    \n",
        "    if end - start < 1:\n",
        "        return my_list\n",
        "    \n",
        "    # 재귀적으로 정렬 수행\n",
        "    # 주어진 리스트를 직접 변경하기 때문에 return할 필요x\n",
        "    p = partition(my_list, start, end)\n",
        "    quick_sort(my_list, start, p-1)\n",
        "    quick_sort(my_list, p+1, end)"
      ],
      "execution_count": 5,
      "outputs": []
    },
    {
      "cell_type": "markdown",
      "metadata": {
        "id": "DiIO3dQ0C1me"
      },
      "source": [
        "# 테스트"
      ]
    },
    {
      "cell_type": "code",
      "metadata": {
        "colab": {
          "base_uri": "https://localhost:8080/"
        },
        "id": "5OVs8NoEC1A4",
        "outputId": "050f58cc-5f87-4c24-ece7-bbf853f9e757"
      },
      "source": [
        "def test(target):    \n",
        "    print(f'Target list: {target}')\n",
        "\n",
        "    quick_sort(target)\n",
        "    print(f'Quick sort result: {target}')\n",
        "    print(f'Is sorted right?: {all(i <= j for i, j in zip(target, target[1:]))}\\n')\n",
        "\n",
        "target = [1, 5, 3, 6, 2, 9]\n",
        "test(target)\n",
        "\n",
        "target2 = [1, 3, 5, 3, 7, 9, 8, 1]\n",
        "test(target2)"
      ],
      "execution_count": 8,
      "outputs": [
        {
          "output_type": "stream",
          "text": [
            "Target list: [1, 5, 3, 6, 2, 9]\n",
            "Quick sort result: [1, 2, 3, 5, 6, 9]\n",
            "Is sorted right?: True\n",
            "\n",
            "Target list: [1, 3, 5, 3, 7, 9, 8, 1]\n",
            "Quick sort result: [1, 1, 3, 3, 5, 7, 8, 9]\n",
            "Is sorted right?: True\n",
            "\n"
          ],
          "name": "stdout"
        }
      ]
    }
  ]
}