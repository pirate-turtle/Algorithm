{
  "nbformat": 4,
  "nbformat_minor": 0,
  "metadata": {
    "colab": {
      "name": "merge sort.ipynb",
      "provenance": [],
      "collapsed_sections": [],
      "authorship_tag": "ABX9TyPeUmrfnrC5G4Qno849umlL"
    },
    "kernelspec": {
      "name": "python3",
      "display_name": "Python 3"
    },
    "language_info": {
      "name": "python"
    }
  },
  "cells": [
    {
      "cell_type": "markdown",
      "metadata": {
        "id": "TleXGn2zymTm"
      },
      "source": [
        "# 합병정렬 (Merge sort)\n",
        "분할 정복(Devide and Conquer) 알고리즘의 하나.  \n",
        "리스트를 나누고 합쳐가면서 정렬한다.\n",
        "\n",
        "* **과정**\n",
        "    * Devide  \n",
        "        1. 리스트를 반으로 나눔\n",
        "        2. 더이상 반으로 나눌 수 없을 때까지 1 반복\n",
        "\n",
        "    * Conquer\n",
        "        3. 각 리스트 중 두개의 리스트를 가지고 비교\n",
        "\n",
        "    * Combine\n",
        "        4. 정렬된 리스트로 합침\n",
        "\n",
        "    재귀적으로 Conquer와 Combine 반복\n",
        "  \n",
        "\n",
        "* **시간복잡도**: O(nlogn)\n",
        "\n",
        "* **장점**: 데이터의 분포에 영향을 적게 받는다.  \n",
        "(분포에 상관없이 정렬 시간 동일. 퀵정렬은 기준값에 따라 달라짐)  \n",
        "\n",
        "* **단점**: 추가 메모리가 필요함  \n",
        "(임시 리스트끼리 합쳐가면서 진행하기 때문)"
      ]
    },
    {
      "cell_type": "markdown",
      "metadata": {
        "id": "927Hij8tyNwY"
      },
      "source": [
        "# 코드 구현"
      ]
    },
    {
      "cell_type": "code",
      "metadata": {
        "id": "79cU8Alqxec-"
      },
      "source": [
        "# 두개의 리스트를 가지고 비교하면서 정렬된 리스트로 합치는 부분\n",
        "def merge(list1, list2):\n",
        "    m_list = []\n",
        "    i = 0\n",
        "    j = 0\n",
        "    \n",
        "    l1 = len(list1)\n",
        "    l2 = len(list2)\n",
        "    \n",
        "    while i < l1 and j < l2:\n",
        "        if list1[i] < list2[j]:\n",
        "            m_list.append(list1[i])\n",
        "            i += 1\n",
        "        else:\n",
        "            m_list.append(list2[j])\n",
        "            j += 1\n",
        "    \n",
        "    m_list += list1[i:] + list2[j:]\n",
        "    \n",
        "    return m_list"
      ],
      "execution_count": null,
      "outputs": []
    },
    {
      "cell_type": "code",
      "metadata": {
        "id": "US9sa8XPyKEI"
      },
      "source": [
        "# 더이상 반으로 나눌 수 없을때까지 리스트를 반으로 나누는 부분\n",
        "# 반으로 나눈 리스트는 merge 함수에 넣어 정렬\n",
        "# 재귀적 호출이기때문에 정렬된 작은 리스트들이 돌아오면서 커다랗게 합쳐짐\n",
        "def merge_sort(my_list):\n",
        "    if len(my_list) < 2:\n",
        "        return my_list\n",
        "    \n",
        "    return merge(merge_sort(my_list[:len(my_list)//2]), merge_sort(my_list[len(my_list)//2:]))"
      ],
      "execution_count": null,
      "outputs": []
    },
    {
      "cell_type": "markdown",
      "metadata": {
        "id": "lBH2Y_X0yPmE"
      },
      "source": [
        "# 테스트"
      ]
    },
    {
      "cell_type": "code",
      "metadata": {
        "colab": {
          "base_uri": "https://localhost:8080/"
        },
        "id": "ggzZzbkjyQMB",
        "outputId": "b8e26939-b164-486e-8363-5e9633b9a16d"
      },
      "source": [
        "def test(target):\n",
        "    result = merge_sort(target)\n",
        "\n",
        "    print(f'target list: {target}')\n",
        "    print(f'merge sort result: {result}')\n",
        "    print(f'Is sorted right?: {all(i <= j for i, j in zip(result, result[1:]))}\\n')\n",
        "\n",
        "target = [1, 5, 3, 6, 2, 9]\n",
        "test(target)\n",
        "\n",
        "target2 = [1, 3, 5, 3, 7, 9, 8, 1]\n",
        "test(target2)"
      ],
      "execution_count": null,
      "outputs": [
        {
          "output_type": "stream",
          "text": [
            "target list: [1, 5, 3, 6, 2, 9]\n",
            "merge sort result: [1, 2, 3, 5, 6, 9]\n",
            "Is sorted right?: True\n",
            "\n",
            "target list: [1, 3, 5, 3, 7, 9, 8, 1]\n",
            "merge sort result: [1, 1, 3, 3, 5, 7, 8, 9]\n",
            "Is sorted right?: True\n",
            "\n"
          ],
          "name": "stdout"
        }
      ]
    }
  ]
}